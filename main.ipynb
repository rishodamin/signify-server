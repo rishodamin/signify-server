{
 "cells": [
  {
   "cell_type": "code",
   "execution_count": 12,
   "id": "a48865e3-3a5e-41ec-98b3-103c97316d9d",
   "metadata": {},
   "outputs": [],
   "source": [
    "import mediapipe as mp\n",
    "from mediapipe.tasks import python\n",
    "from mediapipe.tasks.python import vision"
   ]
  },
  {
   "cell_type": "code",
   "execution_count": 13,
   "id": "ebab2ab9-db82-4e6a-8c6a-e6314bec84ee",
   "metadata": {},
   "outputs": [
    {
     "name": "stderr",
     "output_type": "stream",
     "text": [
      "I0000 00:00:1726552536.593473   45503 gl_context_egl.cc:85] Successfully initialized EGL. Major : 1 Minor: 5\n",
      "I0000 00:00:1726552536.594921   48517 gl_context.cc:357] GL version: 3.2 (OpenGL ES 3.2 Mesa 22.3.5), renderer: Mesa Intel(R) Graphics (ADL GT2)\n",
      "W0000 00:00:1726552536.595297   45503 gesture_recognizer_graph.cc:129] Hand Gesture Recognizer contains CPU only ops. Sets HandGestureRecognizerGraph acceleration to Xnnpack.\n",
      "W0000 00:00:1726552536.626209   48520 inference_feedback_manager.cc:114] Feedback manager requires a model with a single signature inference. Disabling support for feedback tensors.\n",
      "W0000 00:00:1726552536.647052   48528 inference_feedback_manager.cc:114] Feedback manager requires a model with a single signature inference. Disabling support for feedback tensors.\n",
      "W0000 00:00:1726552536.648320   48528 inference_feedback_manager.cc:114] Feedback manager requires a model with a single signature inference. Disabling support for feedback tensors.\n",
      "W0000 00:00:1726552536.648444   48528 inference_feedback_manager.cc:114] Feedback manager requires a model with a single signature inference. Disabling support for feedback tensors.\n"
     ]
    }
   ],
   "source": [
    "base_options = python.BaseOptions(model_asset_path='assets/sign_ml.task')\n",
    "options = vision.GestureRecognizerOptions(base_options=base_options)\n",
    "recognizer = vision.GestureRecognizer.create_from_options(options)"
   ]
  },
  {
   "cell_type": "code",
   "execution_count": 18,
   "id": "a9031b38-8f97-40e1-9eb4-b81df9941533",
   "metadata": {},
   "outputs": [],
   "source": [
    "results = []\n",
    "image = mp.Image.create_from_file('2.jpg')"
   ]
  },
  {
   "cell_type": "code",
   "execution_count": 21,
   "id": "6a2f8de8-4b95-4914-9b30-47c8e7439895",
   "metadata": {},
   "outputs": [
    {
     "name": "stdout",
     "output_type": "stream",
     "text": [
      "Category(index=-1, score=0.9570653438568115, display_name='', category_name='2')\n"
     ]
    }
   ],
   "source": [
    "recognition_result = recognizer.recognize(image)\n",
    "top_gesture = recognition_result.gestures[0][0]\n",
    "hand_landmarks = recognition_result.hand_landmarks\n",
    "results.append((top_gesture, hand_landmarks))\n",
    "print(results[0][0])"
   ]
  },
  {
   "cell_type": "code",
   "execution_count": null,
   "id": "1a0d6836-dc4e-4483-901b-4cb03ac3a4d6",
   "metadata": {},
   "outputs": [],
   "source": []
  }
 ],
 "metadata": {
  "kernelspec": {
   "display_name": "Python 3 (ipykernel)",
   "language": "python",
   "name": "python3"
  },
  "language_info": {
   "codemirror_mode": {
    "name": "ipython",
    "version": 3
   },
   "file_extension": ".py",
   "mimetype": "text/x-python",
   "name": "python",
   "nbconvert_exporter": "python",
   "pygments_lexer": "ipython3",
   "version": "3.10.12"
  }
 },
 "nbformat": 4,
 "nbformat_minor": 5
}
